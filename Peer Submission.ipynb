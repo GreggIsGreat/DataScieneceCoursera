{
 "cells": [
  {
   "cell_type": "markdown",
   "id": "f5f38fd5",
   "metadata": {},
   "source": [
    "## Data Science with Jupyter Notebook"
   ]
  },
  {
   "cell_type": "markdown",
   "id": "fb37cb21",
   "metadata": {},
   "source": [
    "The document below will introduce us to different experiences using Jupyter Notebook"
   ]
  },
  {
   "cell_type": "markdown",
   "id": "7be89737",
   "metadata": {},
   "source": [
    "Data Science Languages:\n",
    "1. Python\n",
    "2. R Programming Language\n",
    "3. SQL\n",
    "4. Julia\n",
    "5. Scala"
   ]
  },
  {
   "cell_type": "markdown",
   "id": "57b1d48c",
   "metadata": {},
   "source": [
    "Data Science Libraries:\n",
    "1. TensorFlow\n",
    "2. NumPy\n",
    "3. Pandas\n",
    "4. Matplotlib\n",
    "5. SciKit-Learn"
   ]
  },
  {
   "cell_type": "markdown",
   "id": "b406f9d2",
   "metadata": {},
   "source": [
    "|Data Science Tools|\n",
    "|------------------|\n",
    "|RStudio|\n",
    "|Apache Spark|\n",
    "|TensorFlow|"
   ]
  },
  {
   "cell_type": "markdown",
   "id": "2bca1799",
   "metadata": {},
   "source": [
    "Arithmetic Expression using Jupyter Notebook"
   ]
  },
  {
   "cell_type": "code",
   "execution_count": 10,
   "id": "0081096e",
   "metadata": {},
   "outputs": [
    {
     "data": {
      "text/plain": [
       "100"
      ]
     },
     "execution_count": 10,
     "metadata": {},
     "output_type": "execute_result"
    }
   ],
   "source": [
    "(28-3)*4"
   ]
  },
  {
   "cell_type": "code",
   "execution_count": 7,
   "id": "fc9cd447",
   "metadata": {},
   "outputs": [
    {
     "data": {
      "text/plain": [
       "7.5"
      ]
     },
     "execution_count": 7,
     "metadata": {},
     "output_type": "execute_result"
    }
   ],
   "source": [
    "450/60"
   ]
  },
  {
   "cell_type": "markdown",
   "id": "fc5d133c",
   "metadata": {},
   "source": [
    "**Objectives:**\n",
    "- Learning to use Markdown\n",
    "- Learning about Data science tools and libraries\n",
    "- Learning about Tables\n",
    "- Learning about Arithmetic Expressions"
   ]
  },
  {
   "cell_type": "markdown",
   "id": "8abf0abc",
   "metadata": {},
   "source": [
    "### Author\n",
    "Thabang Teddy"
   ]
  }
 ],
 "metadata": {
  "kernelspec": {
   "display_name": "Python 3 (ipykernel)",
   "language": "python",
   "name": "python3"
  },
  "language_info": {
   "codemirror_mode": {
    "name": "ipython",
    "version": 3
   },
   "file_extension": ".py",
   "mimetype": "text/x-python",
   "name": "python",
   "nbconvert_exporter": "python",
   "pygments_lexer": "ipython3",
   "version": "3.10.8"
  }
 },
 "nbformat": 4,
 "nbformat_minor": 5
}
